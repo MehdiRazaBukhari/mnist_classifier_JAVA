{
  "nbformat": 4,
  "nbformat_minor": 0,
  "metadata": {
    "colab": {
      "name": "neural_network_JAVA.ipynb",
      "provenance": [],
      "private_outputs": true,
      "collapsed_sections": [],
      "toc_visible": true
    },
    "kernelspec": {
      "name": "python3",
      "display_name": "Python 3"
    },
    "accelerator": "GPU"
  },
  "cells": [
    {
      "cell_type": "markdown",
      "metadata": {
        "id": "ZzCTQeaM-g01",
        "colab_type": "text"
      },
      "source": [
        "#####**About**"
      ]
    },
    {
      "cell_type": "markdown",
      "metadata": {
        "id": "x5aA2J3h-kyy",
        "colab_type": "text"
      },
      "source": [
        "This Notebook contains setup to run Multiclass **MNIST classifier** Neural Network (**1 Hidden Layer**) implemented in **JAVA** without the use of any ML library like deeplearning4j etc. Very Simple architecture, just one hidden layer of 64 neurons.\n",
        "Only dependency is JAMA library, it is used for `**only Matrix**` Multiplication.\n",
        "\n",
        "\n",
        "**Accuracy:**\n",
        "```\n",
        "lr = 1\n",
        "\n",
        "78.67% --> 100 epochs\n",
        "80%    --> 200 epochs\n",
        ">90%   --> 1000 epochs\n",
        ">97%   --> 3000 epohs\n",
        "```\n",
        "\n",
        "\n",
        "**NOTE :**\n",
        "Get the link to dataset (*csv*) , Scripts and Jar file on drive and just run all the cells.\n",
        "\n",
        "```\n",
        " Run via shell, Script takes three command line arguments\n",
        "\n",
        "1.  Path to csv\n",
        "2.  Total epochs\n",
        "3.  Learning Rate\n",
        "4.  0/1 --> 0 if you don't want to print stats while training, 1 otherwise.\n",
        "\n",
        "```\n",
        "\n",
        "***Model Trains on CPU, make sure your **JVM heap memory** is set to minimum of 6GB***"
      ]
    },
    {
      "cell_type": "markdown",
      "metadata": {
        "id": "iqgrsCQY2CC4",
        "colab_type": "text"
      },
      "source": [
        "#####**JAVA SETUP**"
      ]
    },
    {
      "cell_type": "code",
      "metadata": {
        "id": "EEb_iZw_s5bX",
        "colab_type": "code",
        "colab": {}
      },
      "source": [
        "import os       \n",
        "def install_java():\n",
        "  !apt-get install -y openjdk-8-jdk-headless -qq > /dev/null     \n",
        "  os.environ[\"JAVA_HOME\"] = \"/usr/lib/jvm/java-8-openjdk-amd64\"     \n",
        "  !java -version      \n",
        "install_java()"
      ],
      "execution_count": null,
      "outputs": []
    },
    {
      "cell_type": "markdown",
      "metadata": {
        "id": "WaJ_1wYXEMtt",
        "colab_type": "text"
      },
      "source": [
        "#####**Download Data**"
      ]
    },
    {
      "cell_type": "code",
      "metadata": {
        "id": "rpGgYVF7EYJZ",
        "colab_type": "code",
        "colab": {}
      },
      "source": [
        "url = \"https://pkgstore.datahub.io/machine-learning/mnist_784/mnist_784_zip/data/6637a87e259bcd7f68ac3fb346f40a29/mnist_784_zip.zip\"\n",
        "!wget \"$url\"\n",
        "!unzip mnist_784_zip.zip"
      ],
      "execution_count": null,
      "outputs": []
    },
    {
      "cell_type": "markdown",
      "metadata": {
        "id": "qZkk1t30igmZ",
        "colab_type": "text"
      },
      "source": [
        "#####**Get Script**"
      ]
    },
    {
      "cell_type": "code",
      "metadata": {
        "id": "H5CsCMSGCEVm",
        "colab_type": "code",
        "colab": {}
      },
      "source": [
        "!git clone https://github.com/AlienaNebula/mnist_classifier_JAVA"
      ],
      "execution_count": null,
      "outputs": []
    },
    {
      "cell_type": "markdown",
      "metadata": {
        "id": "rP_T-XWA_y1Y",
        "colab_type": "text"
      },
      "source": [
        "#####**Variable setup**"
      ]
    },
    {
      "cell_type": "markdown",
      "metadata": {
        "id": "4h2IQxTW2KrQ",
        "colab_type": "text"
      },
      "source": [
        "**Get link to csv file on drive**\n",
        "\n",
        "```\n",
        "NOTE: CSV can be with header.\n",
        "NOTE: upload Java Script File and Jama Jar in colab, both on same *path*\n",
        "```"
      ]
    },
    {
      "cell_type": "code",
      "metadata": {
        "id": "LQ2ik6xjixo4",
        "colab_type": "code",
        "colab": {}
      },
      "source": [
        "# add path to script, either upload script in colab or get link to drive\n",
        "path_to_script = \"/content/mnist_classifier_JAVA/nn1.java\"\n",
        "\n",
        "# add path to jama 1.0.3 jar, either upload script in colab or get link to drive\n",
        "path_to_jama_jar = \"/content/mnist_classifier_JAVA/Jama-1.0.3.jar\""
      ],
      "execution_count": null,
      "outputs": []
    },
    {
      "cell_type": "markdown",
      "metadata": {
        "id": "6Ms3_4xWi2YI",
        "colab_type": "text"
      },
      "source": [
        "**Command Line Arguments**"
      ]
    },
    {
      "cell_type": "code",
      "metadata": {
        "id": "wlmTxuqF3L03",
        "colab_type": "code",
        "colab": {}
      },
      "source": [
        "# dont change if downloadin using download cell or if downloaded without changing path setting\n",
        "path_to_csv = \"/content/data/mnist_784_csv.csv\"\n",
        "\n",
        "total_epoch = 1000\n",
        "\n",
        "learning_rate = 1\n",
        "\n",
        "stats = 0"
      ],
      "execution_count": null,
      "outputs": []
    },
    {
      "cell_type": "markdown",
      "metadata": {
        "id": "66b7Su5H2bRY",
        "colab_type": "text"
      },
      "source": [
        "#####**Run script**"
      ]
    },
    {
      "cell_type": "code",
      "metadata": {
        "id": "WQats-Of7eoW",
        "colab_type": "code",
        "colab": {}
      },
      "source": [
        "!java -Xmx12G -cp \"$path_to_jama_jar\": \"$path_to_script\" \"$path_to_csv\" \"$total_epoch\" \"$learning_rate\" \"$stats\""
      ],
      "execution_count": null,
      "outputs": []
    },
    {
      "cell_type": "markdown",
      "metadata": {
        "id": "KcEpgC8n2ym9",
        "colab_type": "text"
      },
      "source": [
        "**JVM Memory check**"
      ]
    },
    {
      "cell_type": "code",
      "metadata": {
        "id": "XOCkQM-0DG31",
        "colab_type": "code",
        "colab": {}
      },
      "source": [
        "!ps -ef |grep tomcat"
      ],
      "execution_count": null,
      "outputs": []
    }
  ]
}